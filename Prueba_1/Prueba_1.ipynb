{
 "cells": [
  {
   "cell_type": "code",
   "execution_count": null,
   "metadata": {},
   "outputs": [],
   "source": [
    "!pip install folium pandas"
   ]
  },
  {
   "cell_type": "code",
   "execution_count": 2,
   "metadata": {},
   "outputs": [],
   "source": [
    "import pandas as pd\n",
    "import folium\n",
    "from folium.plugins import HeatMap"
   ]
  },
  {
   "cell_type": "code",
   "execution_count": 3,
   "metadata": {},
   "outputs": [
    {
     "name": "stdout",
     "output_type": "stream",
     "text": [
      "¡Mapa generado! Abre 'mapa_colombia_detallado.html' en tu navegador para verlo.\n"
     ]
    }
   ],
   "source": [
    "# Base de datos con información de las regiones y hurtos\n",
    "datos = pd.DataFrame({\n",
    "    \"nombre\": [\"Zona Santander 1\", \"Zona Santander 2\", \"Zona Nariño 1\", \"Zona Nariño 2\", \n",
    "               \"Zona Valle del Cauca 1\", \"Zona Valle del Cauca 2\", \"Zona Cauca 1\", \"Zona Cauca 2\"],\n",
    "    \"latitud\": [7.119, 7.212, 1.208, 1.152, 3.421, 3.436, 2.455, 2.442],\n",
    "    \"longitud\": [-73.132, -72.922, -77.281, -77.267, -76.532, -76.528, -76.612, -76.629],\n",
    "    \"hurtos\": [30, 20, 50, 35, 70, 60, 40, 25]  # Datos ficticios\n",
    "})\n",
    "\n",
    "# Crear un mapa centrado en Colombia\n",
    "mapa_colombia = folium.Map(location=[4.570868, -74.297333], zoom_start=6)\n",
    "\n",
    "# Crear capas de mapa base (normal y satelital)\n",
    "folium.TileLayer(\"OpenStreetMap\", name=\"Mapa Normal\").add_to(mapa_colombia)\n",
    "folium.TileLayer(\n",
    "    tiles=\"http://{s}.tile.stamen.com/terrain/{z}/{x}/{y}.jpg\",\n",
    "    attr=\"Map tiles by Stamen Design, CC BY 3.0 — Map data © OpenStreetMap contributors\",\n",
    "    name=\"Mapa Terreno\"\n",
    ").add_to(mapa_colombia)\n",
    "folium.TileLayer(\n",
    "    tiles=\"http://{s}.tile.stamen.com/toner/{z}/{x}/{y}.png\",\n",
    "    attr=\"Map tiles by Stamen Design, CC BY 3.0 — Map data © OpenStreetMap contributors\",\n",
    "    name=\"Mapa Blanco y Negro\"\n",
    ").add_to(mapa_colombia)\n",
    "folium.TileLayer(\n",
    "    tiles=\"https://{s}.tile.opentopomap.org/{z}/{x}/{y}.png\",\n",
    "    attr=\"Map data © OpenStreetMap contributors, SRTM | Map style: © OpenTopoMap (CC-BY-SA)\",\n",
    "    name=\"Mapa Satelital\"\n",
    ").add_to(mapa_colombia)\n",
    "\n",
    "# Preparar los datos para el HeatMap\n",
    "puntos_calor = [\n",
    "    [fila[\"latitud\"], fila[\"longitud\"], fila[\"hurtos\"]]\n",
    "    for _, fila in datos.iterrows()\n",
    "]\n",
    "\n",
    "# Agregar el mapa de calor\n",
    "HeatMap(puntos_calor, radius=15, blur=10, max_zoom=12).add_to(mapa_colombia)\n",
    "\n",
    "# Agregar marcadores con detalles de las zonas\n",
    "for _, fila in datos.iterrows():\n",
    "    # Crear texto detallado para cada zona\n",
    "    popup_texto = f\"\"\"\n",
    "    <strong>{fila['nombre']}</strong><br>\n",
    "    Latitud: {fila['latitud']}<br>\n",
    "    Longitud: {fila['longitud']}<br>\n",
    "    Hurtos: {fila['hurtos']}\n",
    "    \"\"\"\n",
    "    # Agregar un marcador al mapa\n",
    "    folium.Marker(\n",
    "        location=[fila[\"latitud\"], fila[\"longitud\"]],\n",
    "        popup=folium.Popup(popup_texto, max_width=300),\n",
    "        icon=folium.Icon(color=\"blue\", icon=\"info-sign\")\n",
    "    ).add_to(mapa_colombia)\n",
    "\n",
    "# Agregar el control de capas para alternar entre vistas\n",
    "folium.LayerControl().add_to(mapa_colombia)\n",
    "\n",
    "# Guardar el mapa en un archivo HTML\n",
    "mapa_colombia.save(\"mapa_colombia_detallado.html\")\n",
    "\n",
    "print(\"¡Mapa generado! Abre 'mapa_colombia_detallado.html' en tu navegador para verlo.\")\n"
   ]
  }
 ],
 "metadata": {
  "kernelspec": {
   "display_name": "Python 3",
   "language": "python",
   "name": "python3"
  },
  "language_info": {
   "codemirror_mode": {
    "name": "ipython",
    "version": 3
   },
   "file_extension": ".py",
   "mimetype": "text/x-python",
   "name": "python",
   "nbconvert_exporter": "python",
   "pygments_lexer": "ipython3",
   "version": "3.13.0"
  }
 },
 "nbformat": 4,
 "nbformat_minor": 2
}
