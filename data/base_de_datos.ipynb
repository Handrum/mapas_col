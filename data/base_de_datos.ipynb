{
 "cells": [
  {
   "cell_type": "code",
   "execution_count": 1,
   "metadata": {},
   "outputs": [
    {
     "name": "stdout",
     "output_type": "stream",
     "text": [
      "Requirement already satisfied: folium in c:\\users\\comunicaciones 6\\appdata\\local\\programs\\python\\python313\\lib\\site-packages (0.18.0)\n",
      "Requirement already satisfied: pandas in c:\\users\\comunicaciones 6\\appdata\\local\\programs\\python\\python313\\lib\\site-packages (2.2.3)\n",
      "Requirement already satisfied: branca>=0.6.0 in c:\\users\\comunicaciones 6\\appdata\\local\\programs\\python\\python313\\lib\\site-packages (from folium) (0.8.0)\n",
      "Requirement already satisfied: jinja2>=2.9 in c:\\users\\comunicaciones 6\\appdata\\local\\programs\\python\\python313\\lib\\site-packages (from folium) (3.1.4)\n",
      "Requirement already satisfied: numpy in c:\\users\\comunicaciones 6\\appdata\\local\\programs\\python\\python313\\lib\\site-packages (from folium) (2.1.3)\n",
      "Requirement already satisfied: requests in c:\\users\\comunicaciones 6\\appdata\\local\\programs\\python\\python313\\lib\\site-packages (from folium) (2.32.3)\n",
      "Requirement already satisfied: xyzservices in c:\\users\\comunicaciones 6\\appdata\\local\\programs\\python\\python313\\lib\\site-packages (from folium) (2024.9.0)\n",
      "Requirement already satisfied: python-dateutil>=2.8.2 in c:\\users\\comunicaciones 6\\appdata\\local\\programs\\python\\python313\\lib\\site-packages (from pandas) (2.9.0.post0)\n",
      "Requirement already satisfied: pytz>=2020.1 in c:\\users\\comunicaciones 6\\appdata\\local\\programs\\python\\python313\\lib\\site-packages (from pandas) (2024.2)\n",
      "Requirement already satisfied: tzdata>=2022.7 in c:\\users\\comunicaciones 6\\appdata\\local\\programs\\python\\python313\\lib\\site-packages (from pandas) (2024.2)\n",
      "Requirement already satisfied: MarkupSafe>=2.0 in c:\\users\\comunicaciones 6\\appdata\\local\\programs\\python\\python313\\lib\\site-packages (from jinja2>=2.9->folium) (3.0.2)\n",
      "Requirement already satisfied: six>=1.5 in c:\\users\\comunicaciones 6\\appdata\\local\\programs\\python\\python313\\lib\\site-packages (from python-dateutil>=2.8.2->pandas) (1.16.0)\n",
      "Requirement already satisfied: charset-normalizer<4,>=2 in c:\\users\\comunicaciones 6\\appdata\\local\\programs\\python\\python313\\lib\\site-packages (from requests->folium) (3.4.0)\n",
      "Requirement already satisfied: idna<4,>=2.5 in c:\\users\\comunicaciones 6\\appdata\\local\\programs\\python\\python313\\lib\\site-packages (from requests->folium) (3.10)\n",
      "Requirement already satisfied: urllib3<3,>=1.21.1 in c:\\users\\comunicaciones 6\\appdata\\local\\programs\\python\\python313\\lib\\site-packages (from requests->folium) (2.2.3)\n",
      "Requirement already satisfied: certifi>=2017.4.17 in c:\\users\\comunicaciones 6\\appdata\\local\\programs\\python\\python313\\lib\\site-packages (from requests->folium) (2024.8.30)\n"
     ]
    },
    {
     "name": "stderr",
     "output_type": "stream",
     "text": [
      "\n",
      "[notice] A new release of pip is available: 24.2 -> 24.3.1\n",
      "[notice] To update, run: python.exe -m pip install --upgrade pip\n"
     ]
    }
   ],
   "source": [
    "!pip install folium pandas"
   ]
  },
  {
   "cell_type": "code",
   "execution_count": 2,
   "metadata": {},
   "outputs": [],
   "source": [
    "import pandas as pd\n",
    "import random"
   ]
  },
  {
   "cell_type": "code",
   "execution_count": 5,
   "metadata": {},
   "outputs": [
    {
     "name": "stdout",
     "output_type": "stream",
     "text": [
      "   Factor o Carencia  Unidades         Ubicación      Actores  Latitud  \\\n",
      "0            Puentes        90          Zapatoca  Gobernación  6.81473   \n",
      "1  Antena telefónica        59  Sabana de Torres  Gobernación  7.39154   \n",
      "2       Placa Huella        55             Girón     Alcaldes  7.06820   \n",
      "3            Escuela        85           San Gil          ONG  6.55592   \n",
      "4            Escuela        58         Barichara     Alcaldes  6.63611   \n",
      "\n",
      "   Longitud  \n",
      "0 -73.27049  \n",
      "1 -73.49515  \n",
      "2 -73.16981  \n",
      "3 -73.13397  \n",
      "4 -73.22222  \n",
      "Base de datos creada y guardada en 'datos_sinteticos_santander_con_coordenadas.csv'.\n"
     ]
    }
   ],
   "source": [
    "# Definir valores posibles para las columnas\n",
    "factores = [\"Escuela\", \"Puentes\", \"Placa Huella\", \"Antena telefónica\", \"Conexión a Internet\"]\n",
    "municipios_santander = {\n",
    "    \"Bucaramanga\": (7.11935, -73.12274),\n",
    "    \"Floridablanca\": (7.06528, -73.09759),\n",
    "    \"Girón\": (7.0682, -73.16981),\n",
    "    \"Piedecuesta\": (6.988, -73.0515),\n",
    "    \"Barrancabermeja\": (7.0675, -73.8547),\n",
    "    \"San Gil\": (6.55592, -73.13397),\n",
    "    \"Barichara\": (6.63611, -73.22222),\n",
    "    \"Socorro\": (6.46861, -73.26194),\n",
    "    \"Zapatoca\": (6.81473, -73.27049),\n",
    "    \"Curití\": (6.60923, -73.06559),\n",
    "    \"Málaga\": (6.69995, -72.73243),\n",
    "    \"Charalá\": (6.29236, -73.14165),\n",
    "    \"Vélez\": (6.01317, -73.6746),\n",
    "    \"Sabana de Torres\": (7.39154, -73.49515),\n",
    "    \"Lebrija\": (7.11306, -73.22055),\n",
    "    \"Rionegro\": (7.37611, -73.15333),\n",
    "}\n",
    "actores = [\"Alcaldes\", \"ONG\", \"Gobernación\"]\n",
    "\n",
    "# Generar datos sintéticos\n",
    "data = {\n",
    "    \"Factor o Carencia\": [random.choice(factores) for _ in range(100)],  # Elegir factores aleatoriamente\n",
    "    \"Unidades\": [random.randint(1, 100) for _ in range(100)],           # Generar un número aleatorio de unidades\n",
    "    \"Ubicación\": [random.choice(list(municipios_santander.keys())) for _ in range(100)],  # Elegir municipios aleatoriamente\n",
    "    \"Actores\": [random.choice(actores) for _ in range(100)]             # Elegir actores aleatoriamente\n",
    "}\n",
    "\n",
    "# Crear un DataFrame\n",
    "df = pd.DataFrame(data)\n",
    "\n",
    "# Agregar coordenadas basadas en la ubicación\n",
    "df[\"Latitud\"] = df[\"Ubicación\"].map(lambda x: municipios_santander[x][0])\n",
    "df[\"Longitud\"] = df[\"Ubicación\"].map(lambda x: municipios_santander[x][1])\n",
    "\n",
    "# Mostrar los primeros registros para verificar\n",
    "print(df.head())\n",
    "\n",
    "# Exportar la base de datos a un archivo CSV\n",
    "df.to_csv(\"datos_sinteticos_santander_con_coordenadas.csv\", index=False)\n",
    "print(\"Base de datos creada y guardada en 'datos_sinteticos_santander_con_coordenadas.csv'.\")\n"
   ]
  }
 ],
 "metadata": {
  "kernelspec": {
   "display_name": "Python 3",
   "language": "python",
   "name": "python3"
  },
  "language_info": {
   "codemirror_mode": {
    "name": "ipython",
    "version": 3
   },
   "file_extension": ".py",
   "mimetype": "text/x-python",
   "name": "python",
   "nbconvert_exporter": "python",
   "pygments_lexer": "ipython3",
   "version": "3.13.0"
  }
 },
 "nbformat": 4,
 "nbformat_minor": 2
}
