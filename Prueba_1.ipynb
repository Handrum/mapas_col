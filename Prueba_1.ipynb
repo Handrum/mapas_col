{
 "cells": [
  {
   "cell_type": "code",
   "execution_count": 1,
   "metadata": {},
   "outputs": [
    {
     "name": "stdout",
     "output_type": "stream",
     "text": [
      "Requirement already satisfied: folium in c:\\users\\comunicaciones 6\\appdata\\local\\programs\\python\\python313\\lib\\site-packages (0.18.0)\n",
      "Requirement already satisfied: pandas in c:\\users\\comunicaciones 6\\appdata\\local\\programs\\python\\python313\\lib\\site-packages (2.2.3)\n",
      "Requirement already satisfied: branca>=0.6.0 in c:\\users\\comunicaciones 6\\appdata\\local\\programs\\python\\python313\\lib\\site-packages (from folium) (0.8.0)\n",
      "Requirement already satisfied: jinja2>=2.9 in c:\\users\\comunicaciones 6\\appdata\\local\\programs\\python\\python313\\lib\\site-packages (from folium) (3.1.4)\n",
      "Requirement already satisfied: numpy in c:\\users\\comunicaciones 6\\appdata\\local\\programs\\python\\python313\\lib\\site-packages (from folium) (2.1.3)\n",
      "Requirement already satisfied: requests in c:\\users\\comunicaciones 6\\appdata\\local\\programs\\python\\python313\\lib\\site-packages (from folium) (2.32.3)\n",
      "Requirement already satisfied: xyzservices in c:\\users\\comunicaciones 6\\appdata\\local\\programs\\python\\python313\\lib\\site-packages (from folium) (2024.9.0)\n",
      "Requirement already satisfied: python-dateutil>=2.8.2 in c:\\users\\comunicaciones 6\\appdata\\local\\programs\\python\\python313\\lib\\site-packages (from pandas) (2.9.0.post0)\n",
      "Requirement already satisfied: pytz>=2020.1 in c:\\users\\comunicaciones 6\\appdata\\local\\programs\\python\\python313\\lib\\site-packages (from pandas) (2024.2)\n",
      "Requirement already satisfied: tzdata>=2022.7 in c:\\users\\comunicaciones 6\\appdata\\local\\programs\\python\\python313\\lib\\site-packages (from pandas) (2024.2)\n",
      "Requirement already satisfied: MarkupSafe>=2.0 in c:\\users\\comunicaciones 6\\appdata\\local\\programs\\python\\python313\\lib\\site-packages (from jinja2>=2.9->folium) (3.0.2)\n",
      "Requirement already satisfied: six>=1.5 in c:\\users\\comunicaciones 6\\appdata\\local\\programs\\python\\python313\\lib\\site-packages (from python-dateutil>=2.8.2->pandas) (1.16.0)\n",
      "Requirement already satisfied: charset-normalizer<4,>=2 in c:\\users\\comunicaciones 6\\appdata\\local\\programs\\python\\python313\\lib\\site-packages (from requests->folium) (3.4.0)\n",
      "Requirement already satisfied: idna<4,>=2.5 in c:\\users\\comunicaciones 6\\appdata\\local\\programs\\python\\python313\\lib\\site-packages (from requests->folium) (3.10)\n",
      "Requirement already satisfied: urllib3<3,>=1.21.1 in c:\\users\\comunicaciones 6\\appdata\\local\\programs\\python\\python313\\lib\\site-packages (from requests->folium) (2.2.3)\n",
      "Requirement already satisfied: certifi>=2017.4.17 in c:\\users\\comunicaciones 6\\appdata\\local\\programs\\python\\python313\\lib\\site-packages (from requests->folium) (2024.8.30)\n"
     ]
    },
    {
     "name": "stderr",
     "output_type": "stream",
     "text": [
      "\n",
      "[notice] A new release of pip is available: 24.2 -> 24.3.1\n",
      "[notice] To update, run: python.exe -m pip install --upgrade pip\n"
     ]
    }
   ],
   "source": [
    "!pip install folium pandas"
   ]
  },
  {
   "cell_type": "code",
   "execution_count": 2,
   "metadata": {},
   "outputs": [],
   "source": [
    "import folium\n",
    "from folium.plugins import HeatMap\n",
    "import pandas as pd\n",
    "import os\n"
   ]
  },
  {
   "cell_type": "code",
   "execution_count": 3,
   "metadata": {},
   "outputs": [
    {
     "name": "stdout",
     "output_type": "stream",
     "text": [
      "Datos cargados:\n",
      "                    nombre  latitud  longitud  hurtos\n",
      "0        Zona Santander 1    7.119   -73.132      30\n",
      "1        Zona Santander 2    7.212   -72.922      20\n",
      "2           Zona Nariño 1    1.208   -77.281      50\n",
      "3           Zona Nariño 2    1.152   -77.267      35\n",
      "4  Zona Valle del Cauca 1    3.421   -76.532      70\n",
      "5  Zona Valle del Cauca 2    3.436   -76.528      60\n",
      "6            Zona Cauca 1    2.455   -76.612      40\n",
      "7            Zona Cauca 2    2.442   -76.629      25\n",
      "¡Mapa generado! Abre 'mapa_colombia_detallado.html' en tu navegador para verlo.\n"
     ]
    }
   ],
   "source": [
    "# Base de datos con información de las regiones y hurtos\n",
    "datos = pd.DataFrame({\n",
    "    \"nombre\": [\"Zona Santander 1\", \"Zona Santander 2\", \"Zona Nariño 1\", \"Zona Nariño 2\", \n",
    "               \"Zona Valle del Cauca 1\", \"Zona Valle del Cauca 2\", \"Zona Cauca 1\", \"Zona Cauca 2\"],\n",
    "    \"latitud\": [7.119, 7.212, 1.208, 1.152, 3.421, 3.436, 2.455, 2.442],\n",
    "    \"longitud\": [-73.132, -72.922, -77.281, -77.267, -76.532, -76.528, -76.612, -76.629],\n",
    "    \"hurtos\": [30, 20, 50, 35, 70, 60, 40, 25]  # Datos ficticios\n",
    "})\n",
    "\n",
    "# Mostrar los datos para verificar\n",
    "print(\"Datos cargados:\\n\", datos)\n",
    "\n",
    "\n",
    "# Crear un mapa centrado en Colombia\n",
    "mapa_colombia = folium.Map(location=[4.570868, -74.297333], zoom_start=6)\n",
    "\n",
    "# Preparar los datos para el HeatMap\n",
    "puntos_calor = [\n",
    "    [fila[\"latitud\"], fila[\"longitud\"], fila[\"hurtos\"]]\n",
    "    for _, fila in datos.iterrows()\n",
    "]\n",
    "\n",
    "# Agregar el mapa de calor\n",
    "HeatMap(puntos_calor, radius=15, blur=10, max_zoom=12).add_to(mapa_colombia)\n",
    "\n",
    "# Agregar marcadores con detalles de las zonas\n",
    "for _, fila in datos.iterrows():\n",
    "    # Crear texto detallado para cada zona\n",
    "    popup_texto = f\"\"\"\n",
    "    <strong>{fila['nombre']}</strong><br>\n",
    "    Latitud: {fila['latitud']}<br>\n",
    "    Longitud: {fila['longitud']}<br>\n",
    "    Hurtos: {fila['hurtos']}\n",
    "    \"\"\"\n",
    "    # Agregar un marcador al mapa\n",
    "    folium.Marker(\n",
    "        location=[fila[\"latitud\"], fila[\"longitud\"]],\n",
    "        popup=folium.Popup(popup_texto, max_width=300),\n",
    "        icon=folium.Icon(color=\"blue\", icon=\"info-sign\")\n",
    "    ).add_to(mapa_colombia)\n",
    "\n",
    "# Guardar el mapa en un archivo HTML\n",
    "mapa_colombia.save(\"mapa_colombia_detallado.html\")\n",
    "\n",
    "print(\"¡Mapa generado! Abre 'mapa_colombia_detallado.html' en tu navegador para verlo.\")\n",
    "\n"
   ]
  }
 ],
 "metadata": {
  "kernelspec": {
   "display_name": "Python 3",
   "language": "python",
   "name": "python3"
  },
  "language_info": {
   "codemirror_mode": {
    "name": "ipython",
    "version": 3
   },
   "file_extension": ".py",
   "mimetype": "text/x-python",
   "name": "python",
   "nbconvert_exporter": "python",
   "pygments_lexer": "ipython3",
   "version": "3.13.0"
  }
 },
 "nbformat": 4,
 "nbformat_minor": 2
}
