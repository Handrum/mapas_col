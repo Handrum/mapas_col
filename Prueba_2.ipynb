{
 "cells": [
  {
   "cell_type": "code",
   "execution_count": null,
   "metadata": {},
   "outputs": [],
   "source": [
    "!pip install folium pandas"
   ]
  },
  {
   "cell_type": "code",
   "execution_count": null,
   "metadata": {},
   "outputs": [],
   "source": [
    "import pandas as pd\n",
    "import folium\n",
    "from folium.plugins import HeatMap"
   ]
  },
  {
   "cell_type": "code",
   "execution_count": null,
   "metadata": {},
   "outputs": [
    {
     "name": "stderr",
     "output_type": "stream",
     "text": [
      "<>:2: SyntaxWarning: invalid escape sequence '\\d'\n",
      "<>:2: SyntaxWarning: invalid escape sequence '\\d'\n",
      "C:\\Users\\Comunicaciones 6\\AppData\\Local\\Temp\\ipykernel_21416\\336172237.py:2: SyntaxWarning: invalid escape sequence '\\d'\n",
      "  datos = pd.read_csv(\"data\\datos_sinteticos_santander_con_coordenadas.csv\")\n"
     ]
    },
    {
     "name": "stdout",
     "output_type": "stream",
     "text": [
      "¡Mapa generado! Abre 'mapa_santander_detallado.html' en tu navegador para verlo.\n"
     ]
    }
   ],
   "source": [
    "# Cargar la base de datos desde el archivo CSV\n",
    "datos = pd.read_csv(\"data\\datos_sinteticos_santander_con_coordenadas.csv\")\n",
    "\n",
    "# Crear un mapa centrado en Santander\n",
    "mapa_santander = folium.Map(location=[7.119, -73.122], zoom_start=8)\n",
    "\n",
    "# Crear capas de mapa base (normal y satelital)\n",
    "folium.TileLayer(\"OpenStreetMap\", name=\"Mapa Normal\").add_to(mapa_santander)\n",
    "folium.TileLayer(\n",
    "    tiles=\"http://{s}.tile.stamen.com/terrain/{z}/{x}/{y}.jpg\",\n",
    "    attr=\"Map tiles by Stamen Design, CC BY 3.0 — Map data © OpenStreetMap contributors\",\n",
    "    name=\"Mapa Terreno\"\n",
    ").add_to(mapa_santander)\n",
    "folium.TileLayer(\n",
    "    tiles=\"http://{s}.tile.stamen.com/toner/{z}/{x}/{y}.png\",\n",
    "    attr=\"Map tiles by Stamen Design, CC BY 3.0 — Map data © OpenStreetMap contributors\",\n",
    "    name=\"Mapa Blanco y Negro\"\n",
    ").add_to(mapa_santander)\n",
    "folium.TileLayer(\n",
    "    tiles=\"https://{s}.tile.opentopomap.org/{z}/{x}/{y}.png\",\n",
    "    attr=\"Map data © OpenStreetMap contributors, SRTM | Map style: © OpenTopoMap (CC-BY-SA)\",\n",
    "    name=\"Mapa Satelital\"\n",
    ").add_to(mapa_santander)\n",
    "\n",
    "# Preparar los datos para el HeatMap\n",
    "puntos_calor = [\n",
    "    [fila[\"Latitud\"], fila[\"Longitud\"], fila[\"Unidades\"]]\n",
    "    for _, fila in datos.iterrows()\n",
    "]\n",
    "\n",
    "# Agregar el mapa de calor\n",
    "HeatMap(puntos_calor, radius=15, blur=10, max_zoom=12).add_to(mapa_santander)\n",
    "\n",
    "# Agregar marcadores con detalles de las ubicaciones\n",
    "for _, fila in datos.iterrows():\n",
    "    # Crear texto detallado para cada ubicación\n",
    "    popup_texto = f\"\"\"\n",
    "    <strong>{fila['Factor o Carencia']}</strong><br>\n",
    "    Municipio: {fila['Ubicación']}<br>\n",
    "    Unidades: {fila['Unidades']}<br>\n",
    "    Actor Responsable: {fila['Actores']}<br>\n",
    "    Latitud: {fila['Latitud']}<br>\n",
    "    Longitud: {fila['Longitud']}\n",
    "    \"\"\"\n",
    "    # Agregar un marcador al mapa\n",
    "    folium.Marker(\n",
    "        location=[fila[\"Latitud\"], fila[\"Longitud\"]],\n",
    "        popup=folium.Popup(popup_texto, max_width=300),\n",
    "        icon=folium.Icon(color=\"blue\", icon=\"info-sign\")\n",
    "    ).add_to(mapa_santander)\n",
    "\n",
    "# Agregar el control de capas para alternar entre vistas\n",
    "folium.LayerControl().add_to(mapa_santander)\n",
    "\n",
    "# Guardar el mapa en un archivo HTML\n",
    "mapa_santander.save(\"mapa_santander_detallado.html\")\n",
    "\n",
    "print(\"¡Mapa generado! Abre 'mapa_santander_detallado.html' en tu navegador para verlo.\")\n"
   ]
  }
 ],
 "metadata": {
  "kernelspec": {
   "display_name": "Python 3",
   "language": "python",
   "name": "python3"
  },
  "language_info": {
   "codemirror_mode": {
    "name": "ipython",
    "version": 3
   },
   "file_extension": ".py",
   "mimetype": "text/x-python",
   "name": "python",
   "nbconvert_exporter": "python",
   "pygments_lexer": "ipython3",
   "version": "3.13.0"
  }
 },
 "nbformat": 4,
 "nbformat_minor": 2
}
